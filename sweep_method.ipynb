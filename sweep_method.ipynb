{
  "nbformat": 4,
  "nbformat_minor": 0,
  "metadata": {
    "colab": {
      "name": "Лабораторная работа №4.ipynb",
      "provenance": [],
      "collapsed_sections": [],
      "authorship_tag": "ABX9TyNGDnJCFbPowvbAUr050opX",
      "include_colab_link": true
    },
    "kernelspec": {
      "name": "python3",
      "display_name": "Python 3"
    }
  },
  "cells": [
    {
      "cell_type": "markdown",
      "metadata": {
        "id": "view-in-github",
        "colab_type": "text"
      },
      "source": [
        "<a href=\"https://colab.research.google.com/github/ligsid/comput_math_MIPT/blob/master/sweep_method.ipynb\" target=\"_parent\"><img src=\"https://colab.research.google.com/assets/colab-badge.svg\" alt=\"Open In Colab\"/></a>"
      ]
    },
    {
      "cell_type": "markdown",
      "metadata": {
        "id": "ckmwp7zT2_a9"
      },
      "source": [
        "# Лабораторная работа №4\n",
        "## Метод прогонки\n",
        "#### Вариант 2, задание 5"
      ]
    },
    {
      "cell_type": "markdown",
      "metadata": {
        "id": "9QasyPmS457T"
      },
      "source": [
        "Условия задачи:\n",
        "</br>Найти решение краевой задачи для одномерного стационарного уравнения теплопроводности $$ \\frac{d}{dx}[k(x)\\frac{du}{dx}] - q(x)u = -f(x) $$\n",
        "в одиннадцати равноудаленных точках отрезка $[0, 1]$ с относительной погрешностью $0.0001$\n",
        "</br> Краевые условия задачи: \n",
        "$$ u(0 + 0) = u(1 - 0) $$ $$ k(0 + 0)u'_{x}(0 + 0) = k(1 - 0)u'_{x}(1 - 0) $$ $$ k(x) = 1 $$ $$ q(x) = e^{sin2\\pi x}$$ $$f(x) = e^{cos2\\pi x} $$\n",
        "</br> Модельная задача: $$ k(x) = 1 $$ $$ q(x) = 1 $$ $$ f(x) = 1 + cos2\\pi x $$"
      ]
    },
    {
      "cell_type": "markdown",
      "metadata": {
        "id": "ZE1ITtVnhEEa"
      },
      "source": [
        "Для начала определим необходимые в последующем библиотеки:"
      ]
    },
    {
      "cell_type": "code",
      "metadata": {
        "id": "A7CQFObp2xi3"
      },
      "source": [
        "import numpy as np\n",
        "import pandas as pd\n",
        "from matplotlib import pyplot as plt "
      ],
      "execution_count": null,
      "outputs": []
    },
    {
      "cell_type": "markdown",
      "metadata": {
        "id": "Sq8yiT4e9uNd"
      },
      "source": [
        "1. Получаем аналитическое решение модельной задачи:\n",
        "$$ u(x) = C_{1}e^{x} + C_{2}e^{x} + \\frac{cos2\\pi x}{1 + 4\\pi^2} + 1 $$\n",
        "</br> Из краевых условий получаем, что $C_{1} = C_{2} = 0$ $$ u(x) = \\frac{cos2\\pi x}{1 + 4\\pi^2} + 1$$"
      ]
    },
    {
      "cell_type": "markdown",
      "metadata": {
        "id": "gXpMSq0fhWNP"
      },
      "source": [
        "Определяем функции нашей модельной задачи"
      ]
    },
    {
      "cell_type": "code",
      "metadata": {
        "id": "mu13zzya78S6"
      },
      "source": [
        "x = np.linspace(0, 1, 11)\n",
        "h = 1/10\n",
        "random = 1\n",
        "def u(x):\n",
        "  return np.cos(2*np.pi*x)/(1 + 4*np.pi**2) + 1\n",
        "def f(x):\n",
        "  return 1 + np.cos(np.pi * 2 * x)\n",
        "def k(x):\n",
        "  return 1\n",
        "def q(x):\n",
        "  return 1"
      ],
      "execution_count": null,
      "outputs": []
    },
    {
      "cell_type": "markdown",
      "metadata": {
        "id": "EyFNFQmx9wgh"
      },
      "source": [
        "### Метод прогонки, реализован прямой ход и обратный ход"
      ]
    },
    {
      "cell_type": "code",
      "metadata": {
        "id": "VqBUQn17Z0XL"
      },
      "source": [
        "def progonka_forward(x):\n",
        "  alpha = [-a(0)/b(0)]\n",
        "  beta = [d(0)/b(0)]\n",
        "  for i in range(1, len(x) - 1):\n",
        "    alpha.append(-a(x[i])/(b(x[i]) + c(x[i])*alpha[i - 1]))\n",
        "    beta.append((d(x[i]) - c(x[i])*beta[i-1])/(b(x[i]) + c(x[i])*alpha[i - 1]))\n",
        "  return (alpha, beta)\n",
        "def progonka_backward(alpha, beta):\n",
        "  alpha = alpha[::-1]\n",
        "  beta = beta[::-1]\n",
        "  u_l = [(d(1) - c(1) * beta[0])/(b(1) + c(1)*alpha[0])]\n",
        "  for i in range(len(alpha)):\n",
        "    u_l.append(alpha[i] * u_l[i] + beta[i])\n",
        "  return u_l"
      ],
      "execution_count": null,
      "outputs": []
    },
    {
      "cell_type": "markdown",
      "metadata": {
        "id": "hznhiObzqJo_"
      },
      "source": [
        "2. Для периодических краевых условий, мы разбиваем нашу задачу на две подзадачи, где необходимо найти с помощью метода прогонки значение двух функций\n",
        "</br> Будем искать решение в виде $$ u_{l} = v_{l} + u_{0}w_{l} $$"
      ]
    },
    {
      "cell_type": "markdown",
      "metadata": {
        "id": "xxAWLuzwYtCC"
      },
      "source": [
        "2. a) Коэффициенты для $ v_{l} $ "
      ]
    },
    {
      "cell_type": "code",
      "metadata": {
        "id": "4NEdxJMj8HBb"
      },
      "source": [
        "def a(x):\n",
        "  if (x == 0):\n",
        "    return 0\n",
        "  elif (x == 1):\n",
        "    return 0\n",
        "  else:\n",
        "    return k(x)\n",
        "\n",
        "def b(x):\n",
        "  if (x == 0):\n",
        "    return 1\n",
        "  elif (x == 1):\n",
        "    return 1\n",
        "  else:\n",
        "    return -2*k(x) - q(x)*(h**2)\n",
        "\n",
        "def c(x):\n",
        "  if (x == 0):\n",
        "    return 0\n",
        "  elif (x == 1):\n",
        "    return 0\n",
        "  else:\n",
        "    return k(x)\n",
        "\n",
        "def d(x):\n",
        "  if (x == 0):\n",
        "    return 0\n",
        "  elif (x == 1):\n",
        "    return 0\n",
        "  else:\n",
        "    return -(h**2)*f(x)"
      ],
      "execution_count": null,
      "outputs": []
    },
    {
      "cell_type": "code",
      "metadata": {
        "id": "DA2Y8tQko604",
        "colab": {
          "base_uri": "https://localhost:8080/",
          "height": 111
        },
        "outputId": "036f334b-a203-4afe-ca38-2223591c6e9a"
      },
      "source": [
        "alpha, beta = progonka_forward(x)\n",
        "v_l = progonka_backward(alpha, beta)[::-1]\n",
        "data1 = pd.DataFrame()\n",
        "data1['Значение x'] = x\n",
        "data1['Значение функции v(x)'] = v_l\n",
        "data1.T"
      ],
      "execution_count": null,
      "outputs": [
        {
          "output_type": "execute_result",
          "data": {
            "text/html": [
              "<div>\n",
              "<style scoped>\n",
              "    .dataframe tbody tr th:only-of-type {\n",
              "        vertical-align: middle;\n",
              "    }\n",
              "\n",
              "    .dataframe tbody tr th {\n",
              "        vertical-align: top;\n",
              "    }\n",
              "\n",
              "    .dataframe thead th {\n",
              "        text-align: right;\n",
              "    }\n",
              "</style>\n",
              "<table border=\"1\" class=\"dataframe\">\n",
              "  <thead>\n",
              "    <tr style=\"text-align: right;\">\n",
              "      <th></th>\n",
              "      <th>0</th>\n",
              "      <th>1</th>\n",
              "      <th>2</th>\n",
              "      <th>3</th>\n",
              "      <th>4</th>\n",
              "      <th>5</th>\n",
              "      <th>6</th>\n",
              "      <th>7</th>\n",
              "      <th>8</th>\n",
              "      <th>9</th>\n",
              "      <th>10</th>\n",
              "    </tr>\n",
              "  </thead>\n",
              "  <tbody>\n",
              "    <tr>\n",
              "      <th>Значение x</th>\n",
              "      <td>0.0</td>\n",
              "      <td>0.100000</td>\n",
              "      <td>0.20000</td>\n",
              "      <td>0.300000</td>\n",
              "      <td>0.400000</td>\n",
              "      <td>0.500000</td>\n",
              "      <td>0.600000</td>\n",
              "      <td>0.700000</td>\n",
              "      <td>0.80000</td>\n",
              "      <td>0.900000</td>\n",
              "      <td>1.0</td>\n",
              "    </tr>\n",
              "    <tr>\n",
              "      <th>Значение функции v(x)</th>\n",
              "      <td>0.0</td>\n",
              "      <td>0.037433</td>\n",
              "      <td>0.05715</td>\n",
              "      <td>0.064349</td>\n",
              "      <td>0.065281</td>\n",
              "      <td>0.064956</td>\n",
              "      <td>0.065281</td>\n",
              "      <td>0.064349</td>\n",
              "      <td>0.05715</td>\n",
              "      <td>0.037433</td>\n",
              "      <td>0.0</td>\n",
              "    </tr>\n",
              "  </tbody>\n",
              "</table>\n",
              "</div>"
            ],
            "text/plain": [
              "                        0         1        2   ...       8         9    10\n",
              "Значение x             0.0  0.100000  0.20000  ...  0.80000  0.900000  1.0\n",
              "Значение функции v(x)  0.0  0.037433  0.05715  ...  0.05715  0.037433  0.0\n",
              "\n",
              "[2 rows x 11 columns]"
            ]
          },
          "metadata": {
            "tags": []
          },
          "execution_count": 61
        }
      ]
    },
    {
      "cell_type": "markdown",
      "metadata": {
        "id": "rOYiiPhSd8SO"
      },
      "source": [
        "2. б) Коэффициенты для $w_l$"
      ]
    },
    {
      "cell_type": "code",
      "metadata": {
        "id": "l9et9DMga4Mw"
      },
      "source": [
        "def a(x):\n",
        "  if (x == 0):\n",
        "    return 0\n",
        "  elif (x == 1):\n",
        "    return 0\n",
        "  else:\n",
        "    return k(x)\n",
        "\n",
        "def b(x):\n",
        "  if (x == 0):\n",
        "    return 1\n",
        "  elif (x == 1):\n",
        "    return 1\n",
        "  else:\n",
        "    return -2*k(x) - q(x)*(h**2)\n",
        "\n",
        "def c(x):\n",
        "  if (x == 0):\n",
        "    return 0\n",
        "  elif (x == 1):\n",
        "    return 0\n",
        "  else:\n",
        "    return k(x)\n",
        "\n",
        "def d(x):\n",
        "  if (x == 0):\n",
        "    return 1\n",
        "  elif (x == 1):\n",
        "    return 1\n",
        "  else:\n",
        "    return 0"
      ],
      "execution_count": null,
      "outputs": []
    },
    {
      "cell_type": "code",
      "metadata": {
        "colab": {
          "base_uri": "https://localhost:8080/",
          "height": 111
        },
        "id": "M82E6ugwd4Fa",
        "outputId": "208c61b9-f181-4489-f30f-ca1b52ef87db"
      },
      "source": [
        "alpha, beta = progonka_forward(x)\n",
        "w_l = progonka_backward(alpha, beta)[::-1]\n",
        "data2 = pd.DataFrame()\n",
        "data2['Значение x'] = x\n",
        "data2['Значение функции w(x)'] = w_l\n",
        "data2.T"
      ],
      "execution_count": null,
      "outputs": [
        {
          "output_type": "execute_result",
          "data": {
            "text/html": [
              "<div>\n",
              "<style scoped>\n",
              "    .dataframe tbody tr th:only-of-type {\n",
              "        vertical-align: middle;\n",
              "    }\n",
              "\n",
              "    .dataframe tbody tr th {\n",
              "        vertical-align: top;\n",
              "    }\n",
              "\n",
              "    .dataframe thead th {\n",
              "        text-align: right;\n",
              "    }\n",
              "</style>\n",
              "<table border=\"1\" class=\"dataframe\">\n",
              "  <thead>\n",
              "    <tr style=\"text-align: right;\">\n",
              "      <th></th>\n",
              "      <th>0</th>\n",
              "      <th>1</th>\n",
              "      <th>2</th>\n",
              "      <th>3</th>\n",
              "      <th>4</th>\n",
              "      <th>5</th>\n",
              "      <th>6</th>\n",
              "      <th>7</th>\n",
              "      <th>8</th>\n",
              "      <th>9</th>\n",
              "      <th>10</th>\n",
              "    </tr>\n",
              "  </thead>\n",
              "  <tbody>\n",
              "    <tr>\n",
              "      <th>Значение x</th>\n",
              "      <td>0.0</td>\n",
              "      <td>0.100000</td>\n",
              "      <td>0.200000</td>\n",
              "      <td>0.300000</td>\n",
              "      <td>0.400000</td>\n",
              "      <td>0.500000</td>\n",
              "      <td>0.600000</td>\n",
              "      <td>0.700000</td>\n",
              "      <td>0.800000</td>\n",
              "      <td>0.900000</td>\n",
              "      <td>1.0</td>\n",
              "    </tr>\n",
              "    <tr>\n",
              "      <th>Значение функции w(x)</th>\n",
              "      <td>1.0</td>\n",
              "      <td>0.958747</td>\n",
              "      <td>0.927081</td>\n",
              "      <td>0.904687</td>\n",
              "      <td>0.891339</td>\n",
              "      <td>0.886904</td>\n",
              "      <td>0.891339</td>\n",
              "      <td>0.904687</td>\n",
              "      <td>0.927081</td>\n",
              "      <td>0.958747</td>\n",
              "      <td>1.0</td>\n",
              "    </tr>\n",
              "  </tbody>\n",
              "</table>\n",
              "</div>"
            ],
            "text/plain": [
              "                        0         1         2   ...        8         9    10\n",
              "Значение x             0.0  0.100000  0.200000  ...  0.800000  0.900000  1.0\n",
              "Значение функции w(x)  1.0  0.958747  0.927081  ...  0.927081  0.958747  1.0\n",
              "\n",
              "[2 rows x 11 columns]"
            ]
          },
          "metadata": {
            "tags": []
          },
          "execution_count": 63
        }
      ]
    },
    {
      "cell_type": "markdown",
      "metadata": {
        "id": "a9M71bdvfsIY"
      },
      "source": [
        "2. в) Вычисление коэффициента $u_{0}$"
      ]
    },
    {
      "cell_type": "code",
      "metadata": {
        "colab": {
          "base_uri": "https://localhost:8080/",
          "height": 407
        },
        "id": "ScRuubq9fo-q",
        "outputId": "633861d1-dca9-4ba1-bd9a-6a26dfdf6417"
      },
      "source": [
        "u_0 = (k(0)*(v_l[1] + v_l[-2]) + f(0)*(h**2))/(2*k(0) + q(0)*(h**2) - k(0)*(w_l[1] + w_l[-2]))\n",
        "u_l = np.array(v_l) + u_0*np.array(w_l)\n",
        "data3 = pd.DataFrame()\n",
        "data3['Значение x'] = x\n",
        "data3['Значение функции u(x) (аналитическое решение)'] = u(x)\n",
        "data3['Значение функции u(x) (метод прогонки)'] = u_l\n",
        "print('Погрешность', (max(u_l - u(x))))\n",
        "data3"
      ],
      "execution_count": null,
      "outputs": [
        {
          "output_type": "stream",
          "text": [
            "Погрешность 0.0008078931292139213\n"
          ],
          "name": "stdout"
        },
        {
          "output_type": "execute_result",
          "data": {
            "text/html": [
              "<div>\n",
              "<style scoped>\n",
              "    .dataframe tbody tr th:only-of-type {\n",
              "        vertical-align: middle;\n",
              "    }\n",
              "\n",
              "    .dataframe tbody tr th {\n",
              "        vertical-align: top;\n",
              "    }\n",
              "\n",
              "    .dataframe thead th {\n",
              "        text-align: right;\n",
              "    }\n",
              "</style>\n",
              "<table border=\"1\" class=\"dataframe\">\n",
              "  <thead>\n",
              "    <tr style=\"text-align: right;\">\n",
              "      <th></th>\n",
              "      <th>Значение x</th>\n",
              "      <th>Значение функции u(x) (аналитическое решение)</th>\n",
              "      <th>Значение функции u(x) (метод прогонки)</th>\n",
              "    </tr>\n",
              "  </thead>\n",
              "  <tbody>\n",
              "    <tr>\n",
              "      <th>0</th>\n",
              "      <td>0.0</td>\n",
              "      <td>1.024705</td>\n",
              "      <td>1.025512</td>\n",
              "    </tr>\n",
              "    <tr>\n",
              "      <th>1</th>\n",
              "      <td>0.1</td>\n",
              "      <td>1.019986</td>\n",
              "      <td>1.020640</td>\n",
              "    </tr>\n",
              "    <tr>\n",
              "      <th>2</th>\n",
              "      <td>0.2</td>\n",
              "      <td>1.007634</td>\n",
              "      <td>1.007884</td>\n",
              "    </tr>\n",
              "    <tr>\n",
              "      <th>3</th>\n",
              "      <td>0.3</td>\n",
              "      <td>0.992366</td>\n",
              "      <td>0.992116</td>\n",
              "    </tr>\n",
              "    <tr>\n",
              "      <th>4</th>\n",
              "      <td>0.4</td>\n",
              "      <td>0.980014</td>\n",
              "      <td>0.979360</td>\n",
              "    </tr>\n",
              "    <tr>\n",
              "      <th>5</th>\n",
              "      <td>0.5</td>\n",
              "      <td>0.975295</td>\n",
              "      <td>0.974488</td>\n",
              "    </tr>\n",
              "    <tr>\n",
              "      <th>6</th>\n",
              "      <td>0.6</td>\n",
              "      <td>0.980014</td>\n",
              "      <td>0.979360</td>\n",
              "    </tr>\n",
              "    <tr>\n",
              "      <th>7</th>\n",
              "      <td>0.7</td>\n",
              "      <td>0.992366</td>\n",
              "      <td>0.992116</td>\n",
              "    </tr>\n",
              "    <tr>\n",
              "      <th>8</th>\n",
              "      <td>0.8</td>\n",
              "      <td>1.007634</td>\n",
              "      <td>1.007884</td>\n",
              "    </tr>\n",
              "    <tr>\n",
              "      <th>9</th>\n",
              "      <td>0.9</td>\n",
              "      <td>1.019986</td>\n",
              "      <td>1.020640</td>\n",
              "    </tr>\n",
              "    <tr>\n",
              "      <th>10</th>\n",
              "      <td>1.0</td>\n",
              "      <td>1.024705</td>\n",
              "      <td>1.025512</td>\n",
              "    </tr>\n",
              "  </tbody>\n",
              "</table>\n",
              "</div>"
            ],
            "text/plain": [
              "    Значение x  ...  Значение функции u(x) (метод прогонки)\n",
              "0          0.0  ...                                1.025512\n",
              "1          0.1  ...                                1.020640\n",
              "2          0.2  ...                                1.007884\n",
              "3          0.3  ...                                0.992116\n",
              "4          0.4  ...                                0.979360\n",
              "5          0.5  ...                                0.974488\n",
              "6          0.6  ...                                0.979360\n",
              "7          0.7  ...                                0.992116\n",
              "8          0.8  ...                                1.007884\n",
              "9          0.9  ...                                1.020640\n",
              "10         1.0  ...                                1.025512\n",
              "\n",
              "[11 rows x 3 columns]"
            ]
          },
          "metadata": {
            "tags": []
          },
          "execution_count": 64
        }
      ]
    },
    {
      "cell_type": "markdown",
      "metadata": {
        "id": "c3b6GW9Ukjcn"
      },
      "source": [
        "Построим график. Сравним аналитическое решение и решение метода прогонки"
      ]
    },
    {
      "cell_type": "code",
      "metadata": {
        "colab": {
          "base_uri": "https://localhost:8080/",
          "height": 747
        },
        "id": "nT9rJyBNkqMC",
        "outputId": "25954762-d8e1-4ff3-fabd-c7503f4867d9"
      },
      "source": [
        "plt.figure(figsize=(12, 12))\n",
        "plt.scatter(x, u(x), label = 'Аналитическое решение')\n",
        "plt.plot(x, u(x))\n",
        "plt.scatter(x, u_l, label = 'Решение методом прогонки')\n",
        "plt.plot(x, u_l)\n",
        "plt.grid()\n",
        "plt.xlabel('x')\n",
        "plt.ylabel('u(x)')\n",
        "plt.legend()\n",
        "plt.title('Решение основной задачи')"
      ],
      "execution_count": null,
      "outputs": [
        {
          "output_type": "execute_result",
          "data": {
            "text/plain": [
              "Text(0.5, 1.0, 'Решение основной задачи')"
            ]
          },
          "metadata": {
            "tags": []
          },
          "execution_count": 65
        },
        {
          "output_type": "display_data",
          "data": {
            "image/png": "[encoded data removed]",
            "text/plain": [
              "<Figure size 864x864 with 1 Axes>"
            ]
          },
          "metadata": {
            "tags": [],
            "needs_background": "light"
          }
        }
      ]
    },
    {
      "cell_type": "markdown",
      "metadata": {
        "id": "SMQkt_PC4zcE"
      },
      "source": [
        "3. а) Решение основной задачи. Определяем функции как дано в условии"
      ]
    },
    {
      "cell_type": "code",
      "metadata": {
        "id": "o7_I6-OC0CLS"
      },
      "source": [
        "def f(x):\n",
        "  return np.e**(np.cos(2*np.pi*x))\n",
        "def k(x):\n",
        "  return 1\n",
        "def q(x):\n",
        "  return np.e**(np.sin(2*np.pi*x))"
      ],
      "execution_count": null,
      "outputs": []
    },
    {
      "cell_type": "markdown",
      "metadata": {
        "id": "ji4ANxF3-Pv1"
      },
      "source": [
        "3. б) Коэффициенты функции $v_{l}$ для основной задачи"
      ]
    },
    {
      "cell_type": "code",
      "metadata": {
        "id": "PSe0jl4q-OUT"
      },
      "source": [
        "def a(x):\n",
        "  if (x == 0):\n",
        "    return 0\n",
        "  elif (x == 1):\n",
        "    return 0\n",
        "  else:\n",
        "    return k(x + 0.5*h)\n",
        "\n",
        "def b(x):\n",
        "  if (x == 0):\n",
        "    return 1\n",
        "  elif (x == 1):\n",
        "    return 1\n",
        "  else:\n",
        "    return -(k(x + 0.5*h) + k(x - 0.5*h) + q(x)*(h**2))\n",
        "\n",
        "def c(x):\n",
        "  if (x == 0):\n",
        "    return 0\n",
        "  elif (x == 1):\n",
        "    return 0\n",
        "  else:\n",
        "    return k(x - 0.5*h)\n",
        "\n",
        "def d(x):\n",
        "  if (x == 0):\n",
        "    return 0\n",
        "  elif (x == 1):\n",
        "    return 0\n",
        "  else:\n",
        "    return -(h**2)*f(x)"
      ],
      "execution_count": null,
      "outputs": []
    },
    {
      "cell_type": "code",
      "metadata": {
        "id": "W9gej-Lg6VK7",
        "colab": {
          "base_uri": "https://localhost:8080/",
          "height": 111
        },
        "outputId": "e9e9b41d-da2f-4745-a328-1c43bca6ab51"
      },
      "source": [
        "alpha, beta = progonka_forward(x)\n",
        "v_l = progonka_backward(alpha, beta)[::-1]\n",
        "data4 = pd.DataFrame()\n",
        "data4['Значение x'] = x\n",
        "data4['Значение функции v(x)'] = v_l\n",
        "data4.T"
      ],
      "execution_count": null,
      "outputs": [
        {
          "output_type": "execute_result",
          "data": {
            "text/html": [
              "<div>\n",
              "<style scoped>\n",
              "    .dataframe tbody tr th:only-of-type {\n",
              "        vertical-align: middle;\n",
              "    }\n",
              "\n",
              "    .dataframe tbody tr th {\n",
              "        vertical-align: top;\n",
              "    }\n",
              "\n",
              "    .dataframe thead th {\n",
              "        text-align: right;\n",
              "    }\n",
              "</style>\n",
              "<table border=\"1\" class=\"dataframe\">\n",
              "  <thead>\n",
              "    <tr style=\"text-align: right;\">\n",
              "      <th></th>\n",
              "      <th>0</th>\n",
              "      <th>1</th>\n",
              "      <th>2</th>\n",
              "      <th>3</th>\n",
              "      <th>4</th>\n",
              "      <th>5</th>\n",
              "      <th>6</th>\n",
              "      <th>7</th>\n",
              "      <th>8</th>\n",
              "      <th>9</th>\n",
              "      <th>10</th>\n",
              "    </tr>\n",
              "  </thead>\n",
              "  <tbody>\n",
              "    <tr>\n",
              "      <th>Значение x</th>\n",
              "      <td>0.0</td>\n",
              "      <td>0.100000</td>\n",
              "      <td>0.200000</td>\n",
              "      <td>0.30000</td>\n",
              "      <td>0.400000</td>\n",
              "      <td>0.50000</td>\n",
              "      <td>0.600000</td>\n",
              "      <td>0.700000</td>\n",
              "      <td>0.800000</td>\n",
              "      <td>0.900000</td>\n",
              "      <td>1.0</td>\n",
              "    </tr>\n",
              "    <tr>\n",
              "      <th>Значение функции v(x)</th>\n",
              "      <td>0.0</td>\n",
              "      <td>0.044474</td>\n",
              "      <td>0.067292</td>\n",
              "      <td>0.07823</td>\n",
              "      <td>0.083852</td>\n",
              "      <td>0.08653</td>\n",
              "      <td>0.086394</td>\n",
              "      <td>0.082286</td>\n",
              "      <td>0.071154</td>\n",
              "      <td>0.046676</td>\n",
              "      <td>0.0</td>\n",
              "    </tr>\n",
              "  </tbody>\n",
              "</table>\n",
              "</div>"
            ],
            "text/plain": [
              "                        0         1         2   ...        8         9    10\n",
              "Значение x             0.0  0.100000  0.200000  ...  0.800000  0.900000  1.0\n",
              "Значение функции v(x)  0.0  0.044474  0.067292  ...  0.071154  0.046676  0.0\n",
              "\n",
              "[2 rows x 11 columns]"
            ]
          },
          "metadata": {
            "tags": []
          },
          "execution_count": 68
        }
      ]
    },
    {
      "cell_type": "markdown",
      "metadata": {
        "id": "9uAtC16y_JNt"
      },
      "source": [
        "3. в) Коэффициенты функции $w_{l}$ основной задачи"
      ]
    },
    {
      "cell_type": "code",
      "metadata": {
        "id": "z4nNiSAk_HA9"
      },
      "source": [
        "def a(x):\n",
        "  if (x == 0):\n",
        "    return 0\n",
        "  elif (x == 1):\n",
        "    return 0\n",
        "  else:\n",
        "    return k(x + 0.5*h)\n",
        "\n",
        "def b(x):\n",
        "  if (x == 0):\n",
        "    return 1\n",
        "  elif (x == 1):\n",
        "    return 1\n",
        "  else:\n",
        "    return -(k(x + 0.5*h) + k(x - 0.5*h) + q(x)*(h**2))\n",
        "\n",
        "def c(x):\n",
        "  if (x == 0):\n",
        "    return 0\n",
        "  elif (x == 1):\n",
        "    return 0\n",
        "  else:\n",
        "    return k(x - 0.5*h)\n",
        "\n",
        "def d(x):\n",
        "  if (x == 0):\n",
        "    return 1\n",
        "  elif (x == 1):\n",
        "    return 1\n",
        "  else:\n",
        "    return 0"
      ],
      "execution_count": null,
      "outputs": []
    },
    {
      "cell_type": "code",
      "metadata": {
        "colab": {
          "base_uri": "https://localhost:8080/",
          "height": 111
        },
        "id": "NMjb5fsX_YpD",
        "outputId": "2767d94c-b9ee-429e-ab8a-05dfe573dafd"
      },
      "source": [
        "alpha, beta = progonka_forward(x)\n",
        "w_l = progonka_backward(alpha, beta)[::-1]\n",
        "data5 = pd.DataFrame()\n",
        "data5['Значение x'] = x\n",
        "data5['Значение функции w(x)'] = v_l\n",
        "data5.T"
      ],
      "execution_count": null,
      "outputs": [
        {
          "output_type": "execute_result",
          "data": {
            "text/html": [
              "<div>\n",
              "<style scoped>\n",
              "    .dataframe tbody tr th:only-of-type {\n",
              "        vertical-align: middle;\n",
              "    }\n",
              "\n",
              "    .dataframe tbody tr th {\n",
              "        vertical-align: top;\n",
              "    }\n",
              "\n",
              "    .dataframe thead th {\n",
              "        text-align: right;\n",
              "    }\n",
              "</style>\n",
              "<table border=\"1\" class=\"dataframe\">\n",
              "  <thead>\n",
              "    <tr style=\"text-align: right;\">\n",
              "      <th></th>\n",
              "      <th>0</th>\n",
              "      <th>1</th>\n",
              "      <th>2</th>\n",
              "      <th>3</th>\n",
              "      <th>4</th>\n",
              "      <th>5</th>\n",
              "      <th>6</th>\n",
              "      <th>7</th>\n",
              "      <th>8</th>\n",
              "      <th>9</th>\n",
              "      <th>10</th>\n",
              "    </tr>\n",
              "  </thead>\n",
              "  <tbody>\n",
              "    <tr>\n",
              "      <th>Значение x</th>\n",
              "      <td>0.0</td>\n",
              "      <td>0.100000</td>\n",
              "      <td>0.200000</td>\n",
              "      <td>0.30000</td>\n",
              "      <td>0.400000</td>\n",
              "      <td>0.50000</td>\n",
              "      <td>0.600000</td>\n",
              "      <td>0.700000</td>\n",
              "      <td>0.800000</td>\n",
              "      <td>0.900000</td>\n",
              "      <td>1.0</td>\n",
              "    </tr>\n",
              "    <tr>\n",
              "      <th>Значение функции w(x)</th>\n",
              "      <td>0.0</td>\n",
              "      <td>0.044474</td>\n",
              "      <td>0.067292</td>\n",
              "      <td>0.07823</td>\n",
              "      <td>0.083852</td>\n",
              "      <td>0.08653</td>\n",
              "      <td>0.086394</td>\n",
              "      <td>0.082286</td>\n",
              "      <td>0.071154</td>\n",
              "      <td>0.046676</td>\n",
              "      <td>0.0</td>\n",
              "    </tr>\n",
              "  </tbody>\n",
              "</table>\n",
              "</div>"
            ],
            "text/plain": [
              "                        0         1         2   ...        8         9    10\n",
              "Значение x             0.0  0.100000  0.200000  ...  0.800000  0.900000  1.0\n",
              "Значение функции w(x)  0.0  0.044474  0.067292  ...  0.071154  0.046676  0.0\n",
              "\n",
              "[2 rows x 11 columns]"
            ]
          },
          "metadata": {
            "tags": []
          },
          "execution_count": 70
        }
      ]
    },
    {
      "cell_type": "markdown",
      "metadata": {
        "id": "x3E56e84jaCd"
      },
      "source": [
        "#### Получаем итоговое решение"
      ]
    },
    {
      "cell_type": "code",
      "metadata": {
        "colab": {
          "base_uri": "https://localhost:8080/",
          "height": 390
        },
        "id": "Z3tzaa2U_atO",
        "outputId": "0300d288-cece-4327-b335-394366ba99f5"
      },
      "source": [
        "u_0 = (k(0.5*h)*v_l[1] + k(1 - h*0.5)*v_l[-2] + f(0)*(h**2))/(k(0.5*h) + k(1 - 0.5*h) + q(0)*(h**2) - k(0.5*h)*w_l[1] - k(1 - 0.5*h)*w_l[-2])\n",
        "u_l = np.array(v_l) + u_0*np.array(w_l)\n",
        "data6 = pd.DataFrame()\n",
        "data6['Значение x'] = x\n",
        "data6['Значение функции u(x) (метод прогонки)'] = u_l\n",
        "data6"
      ],
      "execution_count": null,
      "outputs": [
        {
          "output_type": "execute_result",
          "data": {
            "text/html": [
              "<div>\n",
              "<style scoped>\n",
              "    .dataframe tbody tr th:only-of-type {\n",
              "        vertical-align: middle;\n",
              "    }\n",
              "\n",
              "    .dataframe tbody tr th {\n",
              "        vertical-align: top;\n",
              "    }\n",
              "\n",
              "    .dataframe thead th {\n",
              "        text-align: right;\n",
              "    }\n",
              "</style>\n",
              "<table border=\"1\" class=\"dataframe\">\n",
              "  <thead>\n",
              "    <tr style=\"text-align: right;\">\n",
              "      <th></th>\n",
              "      <th>Значение x</th>\n",
              "      <th>Значение функции u(x) (метод прогонки)</th>\n",
              "    </tr>\n",
              "  </thead>\n",
              "  <tbody>\n",
              "    <tr>\n",
              "      <th>0</th>\n",
              "      <td>0.0</td>\n",
              "      <td>1.046024</td>\n",
              "    </tr>\n",
              "    <tr>\n",
              "      <th>1</th>\n",
              "      <td>0.1</td>\n",
              "      <td>1.020730</td>\n",
              "    </tr>\n",
              "    <tr>\n",
              "      <th>2</th>\n",
              "      <td>0.2</td>\n",
              "      <td>0.991353</td>\n",
              "    </tr>\n",
              "    <tr>\n",
              "      <th>3</th>\n",
              "      <td>0.3</td>\n",
              "      <td>0.974015</td>\n",
              "    </tr>\n",
              "    <tr>\n",
              "      <th>4</th>\n",
              "      <td>0.4</td>\n",
              "      <td>0.974547</td>\n",
              "    </tr>\n",
              "    <tr>\n",
              "      <th>5</th>\n",
              "      <td>0.5</td>\n",
              "      <td>0.988168</td>\n",
              "    </tr>\n",
              "    <tr>\n",
              "      <th>6</th>\n",
              "      <td>0.6</td>\n",
              "      <td>1.007993</td>\n",
              "    </tr>\n",
              "    <tr>\n",
              "      <th>7</th>\n",
              "      <td>0.7</td>\n",
              "      <td>1.028964</td>\n",
              "    </tr>\n",
              "    <tr>\n",
              "      <th>8</th>\n",
              "      <td>0.8</td>\n",
              "      <td>1.046568</td>\n",
              "    </tr>\n",
              "    <tr>\n",
              "      <th>9</th>\n",
              "      <td>0.9</td>\n",
              "      <td>1.054595</td>\n",
              "    </tr>\n",
              "    <tr>\n",
              "      <th>10</th>\n",
              "      <td>1.0</td>\n",
              "      <td>1.046024</td>\n",
              "    </tr>\n",
              "  </tbody>\n",
              "</table>\n",
              "</div>"
            ],
            "text/plain": [
              "    Значение x  Значение функции u(x) (метод прогонки)\n",
              "0          0.0                                1.046024\n",
              "1          0.1                                1.020730\n",
              "2          0.2                                0.991353\n",
              "3          0.3                                0.974015\n",
              "4          0.4                                0.974547\n",
              "5          0.5                                0.988168\n",
              "6          0.6                                1.007993\n",
              "7          0.7                                1.028964\n",
              "8          0.8                                1.046568\n",
              "9          0.9                                1.054595\n",
              "10         1.0                                1.046024"
            ]
          },
          "metadata": {
            "tags": []
          },
          "execution_count": 71
        }
      ]
    },
    {
      "cell_type": "markdown",
      "metadata": {
        "id": "S1NUr49qjwd8"
      },
      "source": [
        "##### Построим график полученного решения"
      ]
    },
    {
      "cell_type": "code",
      "metadata": {
        "id": "iBvBis_RApiH",
        "colab": {
          "base_uri": "https://localhost:8080/",
          "height": 747
        },
        "outputId": "63759d73-287e-4a13-e423-b66b788391b2"
      },
      "source": [
        "plt.figure(figsize=(12, 12))\n",
        "plt.scatter(x, u_l)\n",
        "plt.plot(x, u_l)\n",
        "plt.grid()\n",
        "plt.xlabel('x')\n",
        "plt.ylabel('u(x)')\n",
        "plt.title('Решение основной задачи')"
      ],
      "execution_count": null,
      "outputs": [
        {
          "output_type": "execute_result",
          "data": {
            "text/plain": [
              "Text(0.5, 1.0, 'Решение основной задачи')"
            ]
          },
          "metadata": {
            "tags": []
          },
          "execution_count": 72
        },
        {
          "output_type": "display_data",
          "data": {
            "image/png": "[encoded data removed]",
            "text/plain": [
              "<Figure size 864x864 with 1 Axes>"
            ]
          },
          "metadata": {
            "tags": [],
            "needs_background": "light"
          }
        }
      ]
    },
    {
      "cell_type": "markdown",
      "metadata": {
        "id": "_dX4nW9DmE3d"
      },
      "source": [
        "Если захочется можно изменить разбиение $x$ и поменять $h$, проверялось на 1000 точек, все работает, а графики более гладкими становятся"
      ]
    },
    {
      "cell_type": "code",
      "metadata": {
        "id": "2f0FZa0lj4rx"
      },
      "source": [
        ""
      ],
      "execution_count": null,
      "outputs": []
    }
  ]
}