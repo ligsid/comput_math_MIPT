{
 "cells": [
  {
   "cell_type": "markdown",
   "metadata": {},
   "source": [
    "# <center>Нелинейные уравнения и системы уравнений</center>\n",
    "###  <center>Лабораторная работа №1</center>"
   ]
  },
  {
   "cell_type": "markdown",
   "metadata": {},
   "source": [
    "#### Введение:\n",
    "1. Выпишем сначала коэффициенты для нашего многочлена\n",
    "2. Попробуем визуализировать на графике"
   ]
  },
  {
   "cell_type": "code",
   "execution_count": 1,
   "metadata": {},
   "outputs": [],
   "source": [
    "import numpy as np\n",
    "from matplotlib import pyplot as plt"
   ]
  },
  {
   "cell_type": "code",
   "execution_count": 2,
   "metadata": {},
   "outputs": [],
   "source": [
    "gamma0 = 5/3\n",
    "ro0 = 10**(-5)\n",
    "U0 = 0\n",
    "gamma3 = 5/3\n",
    "C3 = 1.31478 * 10**(4)\n",
    "U3 = 5*10**(4)\n",
    "P3 = 1.17928*10**(9)\n",
    "P0 = 3.848*10**(3)"
   ]
  },
  {
   "cell_type": "code",
   "execution_count": 3,
   "metadata": {},
   "outputs": [],
   "source": [
    "X = P3/P0\n",
    "ro3 = gamma3*P3/C3**(2)\n",
    "alpha0 = (gamma0+1)/(gamma0-1)\n",
    "n = 2*gamma3/(gamma3-1)\n",
    "mu = (U3-U0)*np.sqrt((gamma0-1)*ro0/(2*P0))\n",
    "nu = 2/(gamma3-1)*np.sqrt(gamma3*(gamma0-1)/2*P3/P0*ro0/ro3)"
   ]
  },
  {
   "cell_type": "code",
   "execution_count": 4,
   "metadata": {},
   "outputs": [],
   "source": [
    "a0 = X**(2)\n",
    "a3 = -alpha0*nu**(2)*X\n",
    "a4 = 2*alpha0*nu*(mu+nu)*X\n",
    "a5 = -(2+(mu+nu)**(2)*alpha0)*X\n",
    "a8 = -nu**(2)\n",
    "a9 = 2*nu*(mu+nu)\n",
    "a10 = -(mu+nu)**2 + 1\n",
    "a_coeffs = [a0, 0, 0, a3, a4, a5, 0, 0, a8, a9, a10]"
   ]
  },
  {
   "cell_type": "code",
   "execution_count": 5,
   "metadata": {},
   "outputs": [
    {
     "data": {
      "text/plain": [
       "(306465.69646569644,\n",
       " 11.36997486377774,\n",
       " 4.0,\n",
       " 5.0,\n",
       " 1.4716070010798283,\n",
       " 1.160903671727842)"
      ]
     },
     "execution_count": 5,
     "metadata": {},
     "output_type": "execute_result"
    }
   ],
   "source": [
    "X, ro3, alpha0, n, mu, nu"
   ]
  },
  {
   "cell_type": "code",
   "execution_count": 113,
   "metadata": {},
   "outputs": [
    {
     "data": {
      "text/plain": [
       "[93921223110.20439,\n",
       " 0,\n",
       " 0,\n",
       " -1652092.0096211808,\n",
       " 7492697.2042649025,\n",
       " -9108298.33797096,\n",
       " 0,\n",
       " 0,\n",
       " -1.3476973350311852,\n",
       " 6.112182611850312,\n",
       " -5.930112442446293]"
      ]
     },
     "execution_count": 113,
     "metadata": {},
     "output_type": "execute_result"
    }
   ],
   "source": [
    "a_coeffs"
   ]
  },
  {
   "cell_type": "markdown",
   "metadata": {},
   "source": [
    "#### Решение нелинейных уравнений:\n",
    "3. Пусть у нас имеется алгебраический многочлен: $f(z) = a_{0}z^{n}+a_{1}z^{n-1}+...+a_{n-1}z + a_{n}$, где $a_{i}$ действительные коэффициенты, а $z$ может быть действительным или комплексным, и пусть $A=max\\{|a_{1}|,|a_{2}|, ..., |a_{n}|\\}, B = max\\{|a_{0}|,|a_{2}|, ..., |a_{n-1}|\\}$. Тогда все корни алгебраического уравнения расположены в кольце:\n",
    "$\\frac{|a_{n}|}{|a_{n}|+ B}\\leqslant|z| \\leqslant 1+\\frac{A}{|a_{0}|}$\n",
    "\n",
    "В нашей задаче уравнение сводится к алгебраическому многочлену, поэтому можем локализовать корни"
   ]
  },
  {
   "cell_type": "code",
   "execution_count": 6,
   "metadata": {},
   "outputs": [],
   "source": [
    "def f(x, a):\n",
    "    func = []\n",
    "    a = a[::-1]\n",
    "    for i in range(len(a)):\n",
    "        func.append(x**i * a[i])\n",
    "    return sum(func)"
   ]
  },
  {
   "cell_type": "code",
   "execution_count": 7,
   "metadata": {},
   "outputs": [],
   "source": [
    "def localring(a):\n",
    "    tmp_a = []\n",
    "    for i in a:\n",
    "        tmp_a.append(abs(i))\n",
    "    A = max(tmp_a[1:])\n",
    "    B = max(tmp_a[:-1])\n",
    "    return (tmp_a[-1]/(abs(tmp_a[-1]) + B), 1 + A/tmp_a[0])"
   ]
  },
  {
   "cell_type": "code",
   "execution_count": 8,
   "metadata": {},
   "outputs": [
    {
     "name": "stdout",
     "output_type": "stream",
     "text": [
      "Кольцо корней: (6.31392165231244e-11, 1.0000969780634914)\n",
      "Значение корней на концах: (-5.930112442060374, 94009076979.88287)\n"
     ]
    }
   ],
   "source": [
    "a = localring(a_coeffs)[0]\n",
    "b = localring(a_coeffs)[1]\n",
    "print(\"Кольцо корней:\" , localring(a_coeffs))\n",
    "print(\"Значение корней на концах:\", (f(a, a_coeffs), f(b, a_coeffs)))"
   ]
  },
  {
   "cell_type": "code",
   "execution_count": 123,
   "metadata": {},
   "outputs": [
    {
     "data": {
      "text/plain": [
       "(0, 0.2)"
      ]
     },
     "execution_count": 123,
     "metadata": {},
     "output_type": "execute_result"
    },
    {
     "data": {
      "image/png": "[encoded data removed]",
      "text/plain": [
       "<Figure size 432x288 with 1 Axes>"
      ]
     },
     "metadata": {
      "needs_background": "light"
     },
     "output_type": "display_data"
    }
   ],
   "source": [
    "x = np.linspace(a, b, num=1000)\n",
    "y = []\n",
    "for i in range(len(x)):\n",
    "    y.append(f(x[i], a_coeffs))\n",
    "plt.plot(x, y)\n",
    "plt.ylim(top=200, bottom=-200)\n",
    "plt.xlim(right=0.2, left=0)"
   ]
  },
  {
   "cell_type": "markdown",
   "metadata": {},
   "source": [
    "4. Теперь надо определить количество корней. Для можем воспользоваться следующими теоремами:\n",
    "#### Теорема Декарта:\n",
    "<br>Число положительных действительных корней уравнения $f(z) = 0$ с учетом их кратности либо равно числу перемен знаков в последовательности коэффициентов $\\{a_{i}\\}$(коэффициенты равные нулю не учитываются), либо на четное число меньше"
   ]
  },
  {
   "cell_type": "code",
   "execution_count": 10,
   "metadata": {},
   "outputs": [
    {
     "name": "stdout",
     "output_type": "stream",
     "text": [
      "Число положительных корней: 5 либо на четное число меньше: [3, 1]\n",
      "Число отрицтельных корней: 1\n"
     ]
    }
   ],
   "source": [
    "#Теорема Декарта\n",
    "\n",
    "#1. Положительные\n",
    "cnt = 0\n",
    "tmp = a_coeffs[0]\n",
    "for i in a_coeffs:\n",
    "    if(i*tmp < 0):\n",
    "        cnt += 1\n",
    "        tmp = i\n",
    "root_cnt = []\n",
    "tmp2 = cnt\n",
    "while(tmp2 > 0):\n",
    "    root_cnt.append(tmp2 - 2)\n",
    "    tmp2 -= 2\n",
    "print(\"Число положительных корней:\", cnt, 'либо на четное число меньше:', root_cnt[:-1] )\n",
    "\n",
    "#2. Отрицательные\n",
    "cnt = 0\n",
    "tmp = a_coeffs[0]\n",
    "for i in range(len(a_coeffs)):\n",
    "    if((-a_coeffs[i])*tmp < 0 and i%2 == 0):\n",
    "        cnt += 1\n",
    "        tmp = i\n",
    "root_cnt = []\n",
    "tmp2 = cnt\n",
    "while(tmp2 > 0):\n",
    "    root_cnt.append(tmp2 - 2)\n",
    "    tmp2 -= 2\n",
    "print(\"Число отрицтельных корней:\", cnt)"
   ]
  },
  {
   "cell_type": "markdown",
   "metadata": {},
   "source": [
    "#### Теорема Штурма:\n",
    "<br> Число действительных корней уравнения $f(z) = 0$ на отрезке $[a,b]$(если среди них нет кратных) равно разности между числом перемен знаков в ряде Штурма при $x = a$ и $x = b$, где ряд Штурма последовательность: $f_{0} = f(x), f_{1} = f'(x), f_{2} = -Res\\left\\{\\frac{f_{0}}{f_{1}}\\right\\}, ... , f_{n} = -Res\\left\\{\\frac{f_{n-2}}{f_{n-1}}\\right\\}$"
   ]
  },
  {
   "cell_type": "code",
   "execution_count": 11,
   "metadata": {},
   "outputs": [],
   "source": [
    "#Теорема Штурма\n",
    "def derivative(a, n):\n",
    "    tmp_a = a.copy()\n",
    "    k = n\n",
    "    for i in range(n-1):\n",
    "        tmp_a[i] = k*tmp_a[i]\n",
    "        k -= 1\n",
    "    tmp_a.pop()\n",
    "    return tmp_a"
   ]
  },
  {
   "cell_type": "code",
   "execution_count": 12,
   "metadata": {},
   "outputs": [],
   "source": [
    "def sturm(f):\n",
    "    f0 = f\n",
    "    f1 = derivative(f0, 10)\n",
    "    f_ser = [f0, f1]\n",
    "    for i in range(2, len(f)):\n",
    "        f_ser.append(list(np.polydiv(f_ser[i-2], f_ser[i-1])[1]))\n",
    "    for i in range(2, len(f_ser)):\n",
    "        for j in range(len(f_ser[i])):\n",
    "            f_ser[i][j] = -f_ser[i][j]\n",
    "    return f_ser"
   ]
  },
  {
   "cell_type": "code",
   "execution_count": 13,
   "metadata": {},
   "outputs": [
    {
     "name": "stdout",
     "output_type": "stream",
     "text": [
      "Количество корней между: [6.31392165231244e-11, 1.0000969780634914] получается: 1\n",
      "Количество корней между: [-1.0000969780634914, -6.31392165231244e-11] получается: 1\n"
     ]
    }
   ],
   "source": [
    "f_sturm_series = sturm(a_coeffs)\n",
    "#Количество перемен знаков в a\n",
    "tmp_sturm1 = f(a, f_sturm_series[0])\n",
    "tmp_sturm2 = f(b, f_sturm_series[0])\n",
    "signuma = 0\n",
    "signumb = 0\n",
    "for i in range(len(f_sturm_series)):\n",
    "    if(tmp_sturm1*f(a, f_sturm_series[i]) < 0):\n",
    "        tmp_sturm1 = f(a, f_sturm_series[i])\n",
    "        signuma+=1\n",
    "    if(tmp_sturm2*f(b, f_sturm_series[i]) < 0):\n",
    "        tmp_sturm2 = f(b, f_sturm_series[i])\n",
    "        signumb+=1\n",
    "print('Количество корней между:', [a, b], 'получается:', signuma - signumb)\n",
    "\n",
    "tmp_sturm1 = f(-a, f_sturm_series[0])\n",
    "tmp_sturm2 = f(-b, f_sturm_series[0])\n",
    "signuma = 0\n",
    "signumb = 0\n",
    "for i in range(len(f_sturm_series)):\n",
    "    if(tmp_sturm1*f(-a, f_sturm_series[i]) < 0):\n",
    "        tmp_sturm1 = f(-a, f_sturm_series[i])\n",
    "        signuma+=1\n",
    "    if(tmp_sturm2*f(-b, f_sturm_series[i]) < 0):\n",
    "        tmp_sturm2 = f(-b, f_sturm_series[i])\n",
    "        signumb+=1\n",
    "print('Количество корней между:', [-b, -a], 'получается:', -signuma + signumb)"
   ]
  },
  {
   "cell_type": "markdown",
   "metadata": {},
   "source": [
    "5. Теперь найдем сами корни нашего уравнения.\n",
    "#### Методы решений нелинейных уравнения:\n",
    "#####  Метод половинного деления:\n",
    "<br> Выбераем $x_0 = a, x_1 = b, x_2 = \\frac{a+b}{2}$ , потом если $f(x_1)f(x_2) < 0$, то $x_3 = \\frac{x_{1} + x_{2}}{2}$ ну и так далее\n",
    "#####  Метод простой итерации:\n",
    "<br> Пусть существует $x^{*}: f(x^*) = 0$ и $x^* = \\phi(x^*)$, тогда можем начиная с какого нибудь $x_{0}$, может создать последовательность $x_{n} = \\phi(x_{n-1})$, которая сойдется к $x^*$\n",
    "#####  Метод Ньютона:\n",
    "<br> Это фактически метод простой итерации, но $\\phi(x) = x - \\lambda(x)f(x)$, где $\\lambda(x) = \\frac{1}{f'(x)}$"
   ]
  },
  {
   "cell_type": "code",
   "execution_count": 33,
   "metadata": {},
   "outputs": [
    {
     "name": "stdout",
     "output_type": "stream",
     "text": [
      "Положительный корень: 0.15357934556172848\n",
      "Отрицательный корень: -0.05798902161467333\n"
     ]
    }
   ],
   "source": [
    "#Метод половинного деления:\n",
    "#1. Положительный корень\n",
    "x0 = a\n",
    "x1 = b\n",
    "x2 = (a + b)/2\n",
    "x = [x0, x1, x2]\n",
    "for i in range(1, 1000):\n",
    "    if(f(x[i-1], a_coeffs)*f(x[i+1], a_coeffs) < 0):\n",
    "        x[i] = x[i-1]\n",
    "        x.append((x[i-1]+x[i+1])/2)\n",
    "    if(f(x[i], a_coeffs)*f(x[i+1], a_coeffs) < 0):\n",
    "        x.append((x[i]+x[i+1])/2)\n",
    "print('Положительный корень:', x[-1])\n",
    "#2. Отрицательный корень\n",
    "x0 = -b\n",
    "x1 = -a\n",
    "x2 = (x0 + x1)/2\n",
    "x = [x0, x1, x2]\n",
    "for i in range(1, 1000):\n",
    "    if(f(x[i-1], a_coeffs)*f(x[i+1], a_coeffs) < 0):\n",
    "        x[i] = x[i-1]\n",
    "        x.append((x[i-1]+x[i+1])/2)\n",
    "    if(f(x[i], a_coeffs)*f(x[i+1], a_coeffs) < 0):\n",
    "        x.append((x[i]+x[i+1])/2)\n",
    "print('Отрицательный корень:', x[-1])"
   ]
  },
  {
   "cell_type": "code",
   "execution_count": 42,
   "metadata": {},
   "outputs": [
    {
     "name": "stdout",
     "output_type": "stream",
     "text": [
      "Точность метода половинного деления при 1000 итераций: 5.4119044204496936e-303\n"
     ]
    }
   ],
   "source": [
    "#3. Точность метода половинного деления:\n",
    "delta0 = abs(a - x[-1])\n",
    "print('Точность метода половинного деления при 1000 итераций:', delta0/(2**(1000)))"
   ]
  },
  {
   "cell_type": "code",
   "execution_count": 16,
   "metadata": {},
   "outputs": [],
   "source": [
    "#Метод простой итерации(Ньютона):\n",
    "def method_newton(x, a):\n",
    "    phi = []\n",
    "    for i in range(25):\n",
    "        f_x = f(x, a)\n",
    "        f_der = derivative(a, 10)\n",
    "        f_der_x = f(x, f_der) \n",
    "        x = x - f_x/f_der_x\n",
    "        phi.append(x)\n",
    "    return phi"
   ]
  },
  {
   "cell_type": "code",
   "execution_count": 17,
   "metadata": {},
   "outputs": [
    {
     "name": "stdout",
     "output_type": "stream",
     "text": [
      "Отрицательный корень: -0.05796714759204364\n",
      "Положительный корень: 0.1536926198939592\n"
     ]
    }
   ],
   "source": [
    "print('Отрицательный корень:', method_newton(-b, a_coeffs)[-1])\n",
    "print('Положительный корень:', method_newton(a, a_coeffs)[-1])"
   ]
  },
  {
   "cell_type": "code",
   "execution_count": 129,
   "metadata": {},
   "outputs": [
    {
     "name": "stdout",
     "output_type": "stream",
     "text": [
      "Точность метода Ньютона: 5.877368097519509e-10\n"
     ]
    }
   ],
   "source": [
    "#Точность метода простой итерации\n",
    "f_der_1 = derivative(a_coeffs, 10)\n",
    "f_der_1_a = f(a, f_der_1)\n",
    "f_der_2 = derivative(f_der_1, 9)\n",
    "f_der_2_a = f(a, f_der_2)\n",
    "q = abs(f(a, a_coeffs)*f_der_2_a)/(f_der_1_a**2)\n",
    "print('Точность метода Ньютона:', abs(f(a, a_coeffs)/f_der_1_a)*q**25)"
   ]
  },
  {
   "cell_type": "code",
   "execution_count": 130,
   "metadata": {},
   "outputs": [
    {
     "data": {
      "text/plain": [
       "0.42785109849511377"
      ]
     },
     "execution_count": 130,
     "metadata": {},
     "output_type": "execute_result"
    }
   ],
   "source": [
    "q"
   ]
  },
  {
   "cell_type": "markdown",
   "metadata": {},
   "source": [
    "6. Подставим найденные корни и найдем $D_0$"
   ]
  },
  {
   "cell_type": "code",
   "execution_count": 165,
   "metadata": {},
   "outputs": [],
   "source": [
    "z = method_newton(a, a_coeffs)[-1]\n",
    "P1 = (z**n)*P3\n",
    "U1 = U3 + 2*C3/(gamma3-1)*(1 - z**(1/n))\n",
    "ro1 = ro0*((gamma0-1) + (gamma0+1)*P1/P0)/((gamma0+1)+(gamma0-1)*P1/P0)\n",
    "D0 = (ro0*U0 - ro1*U1)/(ro0 - ro1)"
   ]
  },
  {
   "cell_type": "code",
   "execution_count": 167,
   "metadata": {},
   "outputs": [
    {
     "name": "stdout",
     "output_type": "stream",
     "text": [
      "Финальный ответ, скорость ударной волны D0: 87205.19485609754 см/c\n"
     ]
    }
   ],
   "source": [
    "print('Финальный ответ, скорость ударной волны D0:', D0, 'см/c')"
   ]
  },
  {
   "cell_type": "code",
   "execution_count": null,
   "metadata": {},
   "outputs": [],
   "source": []
  }
 ],
 "metadata": {
  "kernelspec": {
   "display_name": "Python 3",
   "language": "python",
   "name": "python3"
  },
  "language_info": {
   "codemirror_mode": {
    "name": "ipython",
    "version": 3
   },
   "file_extension": ".py",
   "mimetype": "text/x-python",
   "name": "python",
   "nbconvert_exporter": "python",
   "pygments_lexer": "ipython3",
   "version": "3.7.6"
  }
 },
 "nbformat": 4,
 "nbformat_minor": 4
}
