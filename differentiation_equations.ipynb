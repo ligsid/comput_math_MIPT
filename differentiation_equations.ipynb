{
  "nbformat": 4,
  "nbformat_minor": 0,
  "metadata": {
    "colab": {
      "name": "differentiation_equations.ipynb",
      "provenance": [],
      "collapsed_sections": [],
      "authorship_tag": "ABX9TyMlz71sz2GDRpMg4CUAWFU/",
      "include_colab_link": true
    },
    "kernelspec": {
      "name": "python3",
      "display_name": "Python 3"
    }
  },
  "cells": [
    {
      "cell_type": "markdown",
      "metadata": {
        "id": "view-in-github",
        "colab_type": "text"
      },
      "source": [
        "<a href=\"https://colab.research.google.com/github/ligsid/comput_math_MIPT/blob/master/differentiation_equations.ipynb\" target=\"_parent\"><img src=\"https://colab.research.google.com/assets/colab-badge.svg\" alt=\"Open In Colab\"/></a>"
      ]
    },
    {
      "cell_type": "markdown",
      "metadata": {
        "id": "c1z8zzqEwa1t"
      },
      "source": [
        "### Лабораторная работа №3\n",
        "#### Метод Рунге-Кутты решения задачи Коши для обыкновенных дифференциальных уравнений первого порядка"
      ]
    },
    {
      "cell_type": "markdown",
      "metadata": {
        "id": "Y6mSebkfwxAm"
      },
      "source": [
        "\n",
        "Задание №13\n",
        "<br> Метод Рунге-Кутты 4 - го порядка точности: $ x \\in (1, 2), \\varepsilon = 10^{-4} $\n",
        "<br> $ \\begin{equation*}\n",
        " \\begin{cases}\n",
        "   (y - x^2)y'_{x} = x\\\\\n",
        "   y(1) = 1,5\n",
        " \\end{cases}\n",
        "\\end{equation*} $"
      ]
    },
    {
      "cell_type": "code",
      "metadata": {
        "id": "3CGAuST8_fca"
      },
      "source": [
        "import numpy as np\n",
        "import pandas as pd"
      ],
      "execution_count": null,
      "outputs": []
    },
    {
      "cell_type": "markdown",
      "metadata": {
        "id": "XNYl24eojCjN"
      },
      "source": [
        "##### 1. Напишем классический 4-стайдиный метод Рунге-Кутты четвертого порядка точности"
      ]
    },
    {
      "cell_type": "code",
      "metadata": {
        "id": "dJNBvbFN0Se5"
      },
      "source": [
        "def f(x, y):\n",
        "  return x/(y - x**2)\n",
        "def f1(x, y, h):\n",
        "  return f(x, y)\n",
        "def f2(x, y, h):\n",
        "  return f(x + h/2, y + h/2*f1(x,y, h))\n",
        "def f3(x, y, h):\n",
        "  return f(x + h/2, y + h/2*f2(x, y, h))\n",
        "def f4(x, y, h):\n",
        "  return f(x + h, y + h*f3(x, y, h))"
      ],
      "execution_count": null,
      "outputs": []
    },
    {
      "cell_type": "code",
      "metadata": {
        "id": "VNiQOgiE2CbG"
      },
      "source": [
        "def runge(x0, y0, n, x_in, x_fin): # функция принимать начальныйе условия y(x0) = y0\n",
        "  x = [x0]                         # количество точек n и отрезок (x_in, x_fin)\n",
        "  y = [y0]\n",
        "  h = (x_fin - x_in)/n\n",
        "  for i in range(n+1):\n",
        "    if (i != 0):\n",
        "      x.append(x[0] + i*h)\n",
        "    yi = y[i] + h/6*(f1(x[i], y[i], h) + 2*f2(x[i], y[i], h) + 2*f3(x[i], y[i], h) + f4(x[i], y[i], h))\n",
        "    y.append(yi)\n",
        "  return x, y"
      ],
      "execution_count": null,
      "outputs": []
    },
    {
      "cell_type": "markdown",
      "metadata": {
        "id": "pKcmxpacjie8"
      },
      "source": [
        "#### 2. Выведем вычисленные значения для 20 и 10 точек"
      ]
    },
    {
      "cell_type": "code",
      "metadata": {
        "colab": {
          "base_uri": "https://localhost:8080/",
          "height": 111
        },
        "id": "gBqHfsL-4Gr4",
        "outputId": "14e0f054-25a8-44fa-9306-b4077e849c7e"
      },
      "source": [
        "x1, y1 = runge(1, 1.5, 20, 1, 2) # x в отрезке (1, 2), количество точек 20, y(1) = 1.5\n",
        "for i in range(20):\n",
        "  x1[i] = round(x1[i], 4)\n",
        "  y1[i] = round(y1[i], 4)\n",
        "data1 = pd.DataFrame((x1, y1), index=['x1', 'y1']).dropna(axis=1)\n",
        "data1 "
      ],
      "execution_count": null,
      "outputs": [
        {
          "output_type": "execute_result",
          "data": {
            "text/html": [
              "<div>\n",
              "<style scoped>\n",
              "    .dataframe tbody tr th:only-of-type {\n",
              "        vertical-align: middle;\n",
              "    }\n",
              "\n",
              "    .dataframe tbody tr th {\n",
              "        vertical-align: top;\n",
              "    }\n",
              "\n",
              "    .dataframe thead th {\n",
              "        text-align: right;\n",
              "    }\n",
              "</style>\n",
              "<table border=\"1\" class=\"dataframe\">\n",
              "  <thead>\n",
              "    <tr style=\"text-align: right;\">\n",
              "      <th></th>\n",
              "      <th>0</th>\n",
              "      <th>1</th>\n",
              "      <th>2</th>\n",
              "      <th>3</th>\n",
              "      <th>4</th>\n",
              "      <th>5</th>\n",
              "      <th>6</th>\n",
              "      <th>7</th>\n",
              "      <th>8</th>\n",
              "      <th>9</th>\n",
              "      <th>10</th>\n",
              "      <th>11</th>\n",
              "      <th>12</th>\n",
              "      <th>13</th>\n",
              "      <th>14</th>\n",
              "      <th>15</th>\n",
              "      <th>16</th>\n",
              "      <th>17</th>\n",
              "      <th>18</th>\n",
              "      <th>19</th>\n",
              "      <th>20</th>\n",
              "    </tr>\n",
              "  </thead>\n",
              "  <tbody>\n",
              "    <tr>\n",
              "      <th>x1</th>\n",
              "      <td>1.0</td>\n",
              "      <td>1.0500</td>\n",
              "      <td>1.10</td>\n",
              "      <td>1.1500</td>\n",
              "      <td>1.20</td>\n",
              "      <td>1.2500</td>\n",
              "      <td>1.30</td>\n",
              "      <td>1.3500</td>\n",
              "      <td>1.40</td>\n",
              "      <td>1.4500</td>\n",
              "      <td>1.50</td>\n",
              "      <td>1.5500</td>\n",
              "      <td>1.60</td>\n",
              "      <td>1.6500</td>\n",
              "      <td>1.70</td>\n",
              "      <td>1.7500</td>\n",
              "      <td>1.80</td>\n",
              "      <td>1.8500</td>\n",
              "      <td>1.90</td>\n",
              "      <td>1.9500</td>\n",
              "      <td>2.00000</td>\n",
              "    </tr>\n",
              "    <tr>\n",
              "      <th>y1</th>\n",
              "      <td>1.5</td>\n",
              "      <td>1.6025</td>\n",
              "      <td>1.71</td>\n",
              "      <td>1.8225</td>\n",
              "      <td>1.94</td>\n",
              "      <td>2.0625</td>\n",
              "      <td>2.19</td>\n",
              "      <td>2.3225</td>\n",
              "      <td>2.46</td>\n",
              "      <td>2.6025</td>\n",
              "      <td>2.75</td>\n",
              "      <td>2.9025</td>\n",
              "      <td>3.06</td>\n",
              "      <td>3.2225</td>\n",
              "      <td>3.39</td>\n",
              "      <td>3.5625</td>\n",
              "      <td>3.74</td>\n",
              "      <td>3.9225</td>\n",
              "      <td>4.11</td>\n",
              "      <td>4.3025</td>\n",
              "      <td>4.50001</td>\n",
              "    </tr>\n",
              "  </tbody>\n",
              "</table>\n",
              "</div>"
            ],
            "text/plain": [
              "     0       1     2       3     4   ...    16      17    18      19       20\n",
              "x1  1.0  1.0500  1.10  1.1500  1.20  ...  1.80  1.8500  1.90  1.9500  2.00000\n",
              "y1  1.5  1.6025  1.71  1.8225  1.94  ...  3.74  3.9225  4.11  4.3025  4.50001\n",
              "\n",
              "[2 rows x 21 columns]"
            ]
          },
          "metadata": {
            "tags": []
          },
          "execution_count": 288
        }
      ]
    },
    {
      "cell_type": "code",
      "metadata": {
        "colab": {
          "base_uri": "https://localhost:8080/",
          "height": 111
        },
        "id": "ixQMOwxKWvPe",
        "outputId": "f52acb68-10fb-4f41-a2b1-d567e6e913c6"
      },
      "source": [
        "x2, y2 = runge(1, 1.5, 10, 1, 2) # x в отрезке (1, 2), количество точек 10, y(1) = 1.5\n",
        "for i in range(10):\n",
        "  x2[i] = round(x2[i], 4)\n",
        "  y2[i] = round(y2[i], 4)\n",
        "data2 = pd.DataFrame((x2, y2), index=['x2', 'y2']).dropna(axis=1)\n",
        "data2"
      ],
      "execution_count": null,
      "outputs": [
        {
          "output_type": "execute_result",
          "data": {
            "text/html": [
              "<div>\n",
              "<style scoped>\n",
              "    .dataframe tbody tr th:only-of-type {\n",
              "        vertical-align: middle;\n",
              "    }\n",
              "\n",
              "    .dataframe tbody tr th {\n",
              "        vertical-align: top;\n",
              "    }\n",
              "\n",
              "    .dataframe thead th {\n",
              "        text-align: right;\n",
              "    }\n",
              "</style>\n",
              "<table border=\"1\" class=\"dataframe\">\n",
              "  <thead>\n",
              "    <tr style=\"text-align: right;\">\n",
              "      <th></th>\n",
              "      <th>0</th>\n",
              "      <th>1</th>\n",
              "      <th>2</th>\n",
              "      <th>3</th>\n",
              "      <th>4</th>\n",
              "      <th>5</th>\n",
              "      <th>6</th>\n",
              "      <th>7</th>\n",
              "      <th>8</th>\n",
              "      <th>9</th>\n",
              "      <th>10</th>\n",
              "    </tr>\n",
              "  </thead>\n",
              "  <tbody>\n",
              "    <tr>\n",
              "      <th>x2</th>\n",
              "      <td>1.0</td>\n",
              "      <td>1.10</td>\n",
              "      <td>1.20</td>\n",
              "      <td>1.3000</td>\n",
              "      <td>1.4000</td>\n",
              "      <td>1.5000</td>\n",
              "      <td>1.6000</td>\n",
              "      <td>1.7000</td>\n",
              "      <td>1.8000</td>\n",
              "      <td>1.9000</td>\n",
              "      <td>2.000000</td>\n",
              "    </tr>\n",
              "    <tr>\n",
              "      <th>y2</th>\n",
              "      <td>1.5</td>\n",
              "      <td>1.71</td>\n",
              "      <td>1.94</td>\n",
              "      <td>2.1901</td>\n",
              "      <td>2.4601</td>\n",
              "      <td>2.7501</td>\n",
              "      <td>3.0601</td>\n",
              "      <td>3.3901</td>\n",
              "      <td>3.7402</td>\n",
              "      <td>4.1102</td>\n",
              "      <td>4.500196</td>\n",
              "    </tr>\n",
              "  </tbody>\n",
              "</table>\n",
              "</div>"
            ],
            "text/plain": [
              "     0     1     2       3       4   ...      6       7       8       9         10\n",
              "x2  1.0  1.10  1.20  1.3000  1.4000  ...  1.6000  1.7000  1.8000  1.9000  2.000000\n",
              "y2  1.5  1.71  1.94  2.1901  2.4601  ...  3.0601  3.3901  3.7402  4.1102  4.500196\n",
              "\n",
              "[2 rows x 11 columns]"
            ]
          },
          "metadata": {
            "tags": []
          },
          "execution_count": 289
        }
      ]
    },
    {
      "cell_type": "markdown",
      "metadata": {
        "id": "xHp3qQQBjpbm"
      },
      "source": [
        "#### 3. Посчитаем погрешность используя норму: $$ \\| y^{(2h)} - y^{(h)} \\| = \\max \\limits_{i \\in [1, n]} | y_{i}^{(2h)} - y_{i}^{(h)} |$$"
      ]
    },
    {
      "cell_type": "code",
      "metadata": {
        "id": "7qMyrIEUS9DF"
      },
      "source": [
        "def runge_error(runge1, runge2):\n",
        "  x1, y1 = runge1\n",
        "  x2, y2 = runge2\n",
        "  error = []\n",
        "  for i in range(len(x1)):\n",
        "    for j in range(len(x2)):\n",
        "      if(x1[i] == x2[j]):\n",
        "        error.append(abs(y1[i] - y2[j]))\n",
        "  return max(np.array(error)/15)"
      ],
      "execution_count": null,
      "outputs": []
    },
    {
      "cell_type": "code",
      "metadata": {
        "colab": {
          "base_uri": "https://localhost:8080/"
        },
        "id": "afYWf2z4Qv2A",
        "outputId": "5769a062-7924-454c-d55e-4ca8765ab6cc"
      },
      "source": [
        "runge_h = runge(1, 1.5, 20, 1, 2)\n",
        "runge_2h = runge(1, 1.5, 10, 1, 2)\n",
        "print('Погрешность между 10 и 20 точками:' , round(runge_error(runge_h, runge_2h), 7))"
      ],
      "execution_count": null,
      "outputs": [
        {
          "output_type": "stream",
          "text": [
            "Погрешность между 10 и 20 точками: 1.24e-05\n"
          ],
          "name": "stdout"
        }
      ]
    },
    {
      "cell_type": "code",
      "metadata": {
        "id": "-Iu4mXaHgh-_"
      },
      "source": [
        ""
      ],
      "execution_count": null,
      "outputs": []
    }
  ]
}