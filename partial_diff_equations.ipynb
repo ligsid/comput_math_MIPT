{
  "nbformat": 4,
  "nbformat_minor": 0,
  "metadata": {
    "colab": {
      "name": "Лабораторная работа №5.ipynb",
      "provenance": [],
      "collapsed_sections": [],
      "authorship_tag": "ABX9TyNKb1eyS/Adj+lHN7bTC87J",
      "include_colab_link": true
    },
    "kernelspec": {
      "name": "python3",
      "display_name": "Python 3"
    },
    "language_info": {
      "name": "python"
    }
  },
  "cells": [
    {
      "cell_type": "markdown",
      "metadata": {
        "id": "view-in-github",
        "colab_type": "text"
      },
      "source": [
        "<a href=\"https://colab.research.google.com/github/ligsid/comput_math_MIPT/blob/master/partial_diff_equations.ipynb\" target=\"_parent\"><img src=\"https://colab.research.google.com/assets/colab-badge.svg\" alt=\"Open In Colab\"/></a>"
      ]
    },
    {
      "cell_type": "markdown",
      "metadata": {
        "id": "oTinpl1L9jLD"
      },
      "source": [
        "#Лабораторная работа №5\n",
        "##Методы решения уравнения переноса\n",
        "####Вариант 2, задание 5"
      ]
    },
    {
      "cell_type": "markdown",
      "metadata": {
        "id": "mQqVY2qJ-I2f"
      },
      "source": [
        "Условия задачи:\n",
        "</br> Найти аналитическое и численное решения смешанной задачи для уравнения переноса в квадрате $0 \\leq x$, $t \\leq 1$. Сравнить их значения в одиннадцати равноудаленных точках в момент времени $t = 1$\n",
        "</br> Дифференциальная задача: $$ \\frac{\\partial u}{\\partial t} + (x + 4)\\frac{\\partial u}{\\partial x} = 0$$ $$ u(x, 0) = (x+4)^2; u(0, t) = 16e^{-2t} $$ Разностная схема: $$ D_{h} = \\{(x_{l}, t^n): x_{l} = hl, hL = 1, l = \\overline{1, L}; t^n = n\\tau, \\tau N = 1, n = \\overline{0,N} )\\} $$ $$ u_{l}^{n+1} = u_{l}^{n} + \\frac{\\tau}{2h}(x_l + 4)(1 - 0.5\\tau)(-u_{l-2}^{n} + 4u_{l-1}^{n} - 3u_{l}^{n}) + \\frac{\\tau^2}{2h^2}(x_l + 4)(u_{l-2}^n - 2u_{l-1}^n + u_{l}^{n})$$ $$ l = \\overline{2, L}, n = \\overline{0, N-1}$$ $$ u_{l}^{0} = (x_l + 4)^2, l = \\overline{0, L} $$ $$ u_{0}^n = 16e^{-2t^n}, n = \\overline{1, N}$$\n"
      ]
    },
    {
      "cell_type": "code",
      "metadata": {
        "id": "KHtOJQF49HAQ"
      },
      "source": [
        "import numpy as np\n",
        "import pandas as pd\n",
        "from matplotlib import pyplot as plt "
      ],
      "execution_count": null,
      "outputs": []
    },
    {
      "cell_type": "markdown",
      "metadata": {
        "id": "3Z_AJaPdJPwO"
      },
      "source": [
        "1. Аналитическое решение:\n",
        "</br> Первые интегралы полученной системы: $$ \\nu_{1} = t - lnx $$ $$ \\nu_{2} = u $$ Подставляя в первое начальное условие и выражая $ x, u $ явно: $$ x = e^{-\\nu_{1}^{0}} - 4$$ $$ u = \\nu_{2}^{0} $$ Обратно подставляем у начальное условие и меняем $ \\nu_{i}^{0}$ на $\\nu_{i} $ получаем: $$ u = e^{-2t}(x+4)^2 $$"
      ]
    },
    {
      "cell_type": "markdown",
      "metadata": {
        "id": "B-NWqB2Yas4P"
      },
      "source": [
        "2. Данная разностная схема апроксимирует наше дифференциальное уравнение: $$ O(\\tau + h^2) $$"
      ]
    },
    {
      "cell_type": "markdown",
      "metadata": {
        "id": "0arq4oSDb5DE"
      },
      "source": [
        "3. Построенние дополнительного начального условия для замыкания системы: $$ [u]^{n}_{1} \\approx [u]^{0}_{1} +  [u']^{0}_{1} h + [u'']^{0}_{1} \\frac{h^2}{2}$$\n",
        "Получаем, что $$ [u']^{0}_{1} = 8e^{-2t^n} $$ $$ [u'']^{0}_{1}  = -4e^{-2t^n} $$\n",
        "В итоге начальное условие $$ [u]^{n}_{1} = 16e^{2t^n}\\left(1 + \\frac{h}{2} - \\frac{h^2}{8}\\right), n = \\overline{1, N} $$"
      ]
    },
    {
      "cell_type": "markdown",
      "metadata": {
        "id": "0pJ_dAclm5I-"
      },
      "source": [
        "4. Численное решение уравнения"
      ]
    },
    {
      "cell_type": "code",
      "metadata": {
        "colab": {
          "base_uri": "https://localhost:8080/"
        },
        "id": "L207Lanq9iAK",
        "outputId": "c4009bd6-4995-492b-bae2-7be798616c1e"
      },
      "source": [
        "print('Введите кол-во точек x:')\n",
        "L = int(input())\n",
        "x = np.linspace(0, 1, L+1)\n",
        "h = 1/L\n",
        "print('Введите число tau/h:')\n",
        "tau = float(input()) * h\n",
        "t = np.linspace(0, 1, int(1/tau) + 1)"
      ],
      "execution_count": null,
      "outputs": [
        {
          "output_type": "stream",
          "text": [
            "Введите кол-во точек x:\n",
            "11\n",
            "Введите число tau/h:\n",
            "0.23\n"
          ],
          "name": "stdout"
        }
      ]
    },
    {
      "cell_type": "code",
      "metadata": {
        "id": "xGq3iI-mtxxd"
      },
      "source": [
        "u = np.zeros((int(1/tau) + 1, L + 1))\n",
        "for i in range(len(x)):\n",
        "  u[0][i] = (x[i] + 4)**2\n",
        "for i in range(len(t)):\n",
        "  u[i][0] = 16*np.e**(-2*t[i])\n",
        "for i in range(len(t)):\n",
        "  u[i][1] = (16*np.e**(-2*t[i])) * (1 + h/2 - (h**2)/8)"
      ],
      "execution_count": null,
      "outputs": []
    },
    {
      "cell_type": "code",
      "metadata": {
        "id": "H8h9eyAuqcgp"
      },
      "source": [
        "for j in range(1, len(t)):\n",
        "  for i in range(2, len(x)):\n",
        "    u[j][i] = u[j - 1][i] + tau/(2*h)*(x[i] + 4)*(1 - tau/2)*(-u[j - 1][i-2] + 4*u[j - 1][i-1] - 3*u[j - 1][i]) + (tau**2)/(2*h**2)*(x[i] + 4)*(u[j - 1][i-2] - 2*u[j - 1][i-1] + u[j - 1][i])"
      ],
      "execution_count": null,
      "outputs": []
    },
    {
      "cell_type": "markdown",
      "metadata": {
        "id": "dPC_hP_syfn7"
      },
      "source": [
        "5. Сравнение с аналитическим решение"
      ]
    },
    {
      "cell_type": "code",
      "metadata": {
        "id": "SMW7crDEye3x"
      },
      "source": [
        "def u_an(t, x):\n",
        "  return (np.e**(-2*t)*(x + 4)**2)"
      ],
      "execution_count": null,
      "outputs": []
    },
    {
      "cell_type": "code",
      "metadata": {
        "id": "XLzNULLg4Lpa",
        "colab": {
          "base_uri": "https://localhost:8080/",
          "height": 204
        },
        "outputId": "cee12de2-6b78-4217-9790-49a2698094d1"
      },
      "source": [
        "data = pd.DataFrame()\n",
        "data['Аналитическое решение'] = u_an(1, x)\n",
        "data['Численное решение'] = u[-1]\n",
        "data.head()"
      ],
      "execution_count": null,
      "outputs": [
        {
          "output_type": "execute_result",
          "data": {
            "text/html": [
              "<div>\n",
              "<style scoped>\n",
              "    .dataframe tbody tr th:only-of-type {\n",
              "        vertical-align: middle;\n",
              "    }\n",
              "\n",
              "    .dataframe tbody tr th {\n",
              "        vertical-align: top;\n",
              "    }\n",
              "\n",
              "    .dataframe thead th {\n",
              "        text-align: right;\n",
              "    }\n",
              "</style>\n",
              "<table border=\"1\" class=\"dataframe\">\n",
              "  <thead>\n",
              "    <tr style=\"text-align: right;\">\n",
              "      <th></th>\n",
              "      <th>Аналитическое решение</th>\n",
              "      <th>Численное решение</th>\n",
              "    </tr>\n",
              "  </thead>\n",
              "  <tbody>\n",
              "    <tr>\n",
              "      <th>0</th>\n",
              "      <td>2.165365</td>\n",
              "      <td>2.165365</td>\n",
              "    </tr>\n",
              "    <tr>\n",
              "      <th>1</th>\n",
              "      <td>2.264909</td>\n",
              "      <td>2.261553</td>\n",
              "    </tr>\n",
              "    <tr>\n",
              "      <th>2</th>\n",
              "      <td>2.366690</td>\n",
              "      <td>2.362976</td>\n",
              "    </tr>\n",
              "    <tr>\n",
              "      <th>3</th>\n",
              "      <td>2.470708</td>\n",
              "      <td>2.467497</td>\n",
              "    </tr>\n",
              "    <tr>\n",
              "      <th>4</th>\n",
              "      <td>2.576963</td>\n",
              "      <td>2.574529</td>\n",
              "    </tr>\n",
              "  </tbody>\n",
              "</table>\n",
              "</div>"
            ],
            "text/plain": [
              "   Аналитическое решение  Численное решение\n",
              "0               2.165365           2.165365\n",
              "1               2.264909           2.261553\n",
              "2               2.366690           2.362976\n",
              "3               2.470708           2.467497\n",
              "4               2.576963           2.574529"
            ]
          },
          "metadata": {
            "tags": []
          },
          "execution_count": 25
        }
      ]
    },
    {
      "cell_type": "code",
      "metadata": {
        "id": "O6mWEEcU4evp",
        "colab": {
          "base_uri": "https://localhost:8080/",
          "height": 747
        },
        "outputId": "c2867601-b940-4bc5-c11f-27d509ab4048"
      },
      "source": [
        "plt.figure(figsize=(12, 12))\n",
        "plt.scatter(x, u_an(1, x), label = 'Аналитическое решение')\n",
        "plt.plot(x, u_an(1, x))\n",
        "plt.scatter(x, u[-1], label = 'Численное решение')\n",
        "plt.plot(x, u[-1])\n",
        "plt.grid()\n",
        "plt.xlabel('x')\n",
        "plt.ylabel('u(x)')\n",
        "plt.legend()\n",
        "plt.title('Графики функций для сравнения решений')"
      ],
      "execution_count": null,
      "outputs": [
        {
          "output_type": "execute_result",
          "data": {
            "text/plain": [
              "Text(0.5, 1.0, 'Графики функций для сравнения решений')"
            ]
          },
          "metadata": {
            "tags": []
          },
          "execution_count": 26
        },
        {
          "output_type": "display_data",
          "data": {
            "image/png": "[encoded data removed]",
            "text/plain": [
              "<Figure size 864x864 with 1 Axes>"
            ]
          },
          "metadata": {
            "tags": [],
            "needs_background": "light"
          }
        }
      ]
    },
    {
      "cell_type": "markdown",
      "metadata": {
        "id": "etQ_gx-jAc4z"
      },
      "source": [
        "Методом научного тыка, выяснено что ошибка не накапливается при $\\tau/h < 0.23$"
      ]
    },
    {
      "cell_type": "code",
      "metadata": {
        "colab": {
          "base_uri": "https://localhost:8080/"
        },
        "id": "sOsS4Zxox2UU",
        "outputId": "d0734c39-5841-4f8b-8104-c5c8c5e9efa6"
      },
      "source": [
        "print('Погрешность:', max(u_an(1, np.array(x)) - u[-1])/3)"
      ],
      "execution_count": null,
      "outputs": [
        {
          "output_type": "stream",
          "text": [
            "Погрешность: 0.0012377763505247625\n"
          ],
          "name": "stdout"
        }
      ]
    },
    {
      "cell_type": "markdown",
      "metadata": {
        "id": "lL_FArLh24Rj"
      },
      "source": [
        "6. Посчитаем во сколько меняется погрешность при увеличении точек"
      ]
    },
    {
      "cell_type": "code",
      "metadata": {
        "id": "oc2ZfQ5Dy7HV"
      },
      "source": [
        "err11 = max(u_an(1, np.array(x)) - u[-1])"
      ],
      "execution_count": null,
      "outputs": []
    },
    {
      "cell_type": "code",
      "metadata": {
        "id": "hc62wcrn5cP7"
      },
      "source": [
        "err22 = max(u_an(1, np.array(x)) - u[-1])"
      ],
      "execution_count": null,
      "outputs": []
    },
    {
      "cell_type": "code",
      "metadata": {
        "colab": {
          "base_uri": "https://localhost:8080/"
        },
        "id": "skrHEfxo55wx",
        "outputId": "695d11d9-a06f-4549-9ae8-36cc163017f3"
      },
      "source": [
        "print('Погрешность уменьшается при увеличении точек в 2 раза:', err11/err22)"
      ],
      "execution_count": null,
      "outputs": [
        {
          "output_type": "stream",
          "text": [
            "Погрешность уменьшается при увеличении точек в 2 раза: 3.6329626210840518\n"
          ],
          "name": "stdout"
        }
      ]
    },
    {
      "cell_type": "markdown",
      "metadata": {
        "id": "5PGvid6d3D_8"
      },
      "source": [
        "Теория дает нам устойчивость численного решение при $$ \\tau_{n} \\leq \\frac{2h}{\\smash{\\displaystyle\\max_{n}} a^n_{l}} $$"
      ]
    },
    {
      "cell_type": "code",
      "metadata": {
        "id": "IBz7bvCB57dt",
        "colab": {
          "base_uri": "https://localhost:8080/"
        },
        "outputId": "196c98f4-3006-4c28-c98e-57518966fee9"
      },
      "source": [
        "def a(x):\n",
        "  return x + 4\n",
        "print('Получается тау на h должно быть не больше' , 2/max(a(x)))"
      ],
      "execution_count": null,
      "outputs": [
        {
          "output_type": "stream",
          "text": [
            "Получается тау на h должно быть не больше 0.4\n"
          ],
          "name": "stdout"
        }
      ]
    },
    {
      "cell_type": "code",
      "metadata": {
        "id": "cFBvss2N4f7R"
      },
      "source": [
        ""
      ],
      "execution_count": null,
      "outputs": []
    }
  ]
}